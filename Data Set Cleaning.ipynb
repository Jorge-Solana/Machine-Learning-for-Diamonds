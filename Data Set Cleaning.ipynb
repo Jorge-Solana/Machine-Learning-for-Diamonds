{
 "cells": [
  {
   "cell_type": "code",
   "execution_count": 1,
   "id": "e0bf2c2c",
   "metadata": {},
   "outputs": [],
   "source": [
    "import pandas as pd\n",
    "import numpy as np\n",
    "import seaborn as sns"
   ]
  },
  {
   "cell_type": "code",
   "execution_count": 2,
   "id": "e495ad9b",
   "metadata": {},
   "outputs": [],
   "source": [
    "d_train = pd.read_csv('./train.csv')"
   ]
  },
  {
   "cell_type": "code",
   "execution_count": 3,
   "id": "52e74959",
   "metadata": {},
   "outputs": [],
   "source": [
    "d_test = pd.read_csv('./test.csv')"
   ]
  },
  {
   "cell_type": "code",
   "execution_count": 4,
   "id": "9ceeb0c2",
   "metadata": {},
   "outputs": [
    {
     "data": {
      "text/html": [
       "<div>\n",
       "<style scoped>\n",
       "    .dataframe tbody tr th:only-of-type {\n",
       "        vertical-align: middle;\n",
       "    }\n",
       "\n",
       "    .dataframe tbody tr th {\n",
       "        vertical-align: top;\n",
       "    }\n",
       "\n",
       "    .dataframe thead th {\n",
       "        text-align: right;\n",
       "    }\n",
       "</style>\n",
       "<table border=\"1\" class=\"dataframe\">\n",
       "  <thead>\n",
       "    <tr style=\"text-align: right;\">\n",
       "      <th></th>\n",
       "      <th>id</th>\n",
       "      <th>carat</th>\n",
       "      <th>cut</th>\n",
       "      <th>color</th>\n",
       "      <th>clarity</th>\n",
       "      <th>depth</th>\n",
       "      <th>table</th>\n",
       "      <th>x</th>\n",
       "      <th>y</th>\n",
       "      <th>z</th>\n",
       "      <th>price</th>\n",
       "    </tr>\n",
       "  </thead>\n",
       "  <tbody>\n",
       "    <tr>\n",
       "      <th>0</th>\n",
       "      <td>0</td>\n",
       "      <td>0.30</td>\n",
       "      <td>Premium</td>\n",
       "      <td>D</td>\n",
       "      <td>SI2</td>\n",
       "      <td>62.4</td>\n",
       "      <td>58.0</td>\n",
       "      <td>4.31</td>\n",
       "      <td>4.28</td>\n",
       "      <td>2.68</td>\n",
       "      <td>6.353</td>\n",
       "    </tr>\n",
       "    <tr>\n",
       "      <th>1</th>\n",
       "      <td>1</td>\n",
       "      <td>1.01</td>\n",
       "      <td>Ideal</td>\n",
       "      <td>E</td>\n",
       "      <td>VVS2</td>\n",
       "      <td>62.7</td>\n",
       "      <td>56.0</td>\n",
       "      <td>6.42</td>\n",
       "      <td>6.46</td>\n",
       "      <td>4.04</td>\n",
       "      <td>9.183</td>\n",
       "    </tr>\n",
       "    <tr>\n",
       "      <th>2</th>\n",
       "      <td>2</td>\n",
       "      <td>0.72</td>\n",
       "      <td>Ideal</td>\n",
       "      <td>F</td>\n",
       "      <td>VS2</td>\n",
       "      <td>61.8</td>\n",
       "      <td>59.0</td>\n",
       "      <td>5.71</td>\n",
       "      <td>5.74</td>\n",
       "      <td>3.54</td>\n",
       "      <td>7.983</td>\n",
       "    </tr>\n",
       "    <tr>\n",
       "      <th>3</th>\n",
       "      <td>3</td>\n",
       "      <td>1.08</td>\n",
       "      <td>Very Good</td>\n",
       "      <td>G</td>\n",
       "      <td>SI2</td>\n",
       "      <td>63.2</td>\n",
       "      <td>57.0</td>\n",
       "      <td>6.54</td>\n",
       "      <td>6.50</td>\n",
       "      <td>4.12</td>\n",
       "      <td>8.371</td>\n",
       "    </tr>\n",
       "    <tr>\n",
       "      <th>4</th>\n",
       "      <td>4</td>\n",
       "      <td>0.36</td>\n",
       "      <td>Premium</td>\n",
       "      <td>G</td>\n",
       "      <td>VS1</td>\n",
       "      <td>62.3</td>\n",
       "      <td>59.0</td>\n",
       "      <td>4.50</td>\n",
       "      <td>4.55</td>\n",
       "      <td>2.82</td>\n",
       "      <td>6.588</td>\n",
       "    </tr>\n",
       "  </tbody>\n",
       "</table>\n",
       "</div>"
      ],
      "text/plain": [
       "   id  carat        cut color clarity  depth  table     x     y     z  price\n",
       "0   0   0.30    Premium     D     SI2   62.4   58.0  4.31  4.28  2.68  6.353\n",
       "1   1   1.01      Ideal     E    VVS2   62.7   56.0  6.42  6.46  4.04  9.183\n",
       "2   2   0.72      Ideal     F     VS2   61.8   59.0  5.71  5.74  3.54  7.983\n",
       "3   3   1.08  Very Good     G     SI2   63.2   57.0  6.54  6.50  4.12  8.371\n",
       "4   4   0.36    Premium     G     VS1   62.3   59.0  4.50  4.55  2.82  6.588"
      ]
     },
     "execution_count": 4,
     "metadata": {},
     "output_type": "execute_result"
    }
   ],
   "source": [
    "d_train.head()"
   ]
  },
  {
   "cell_type": "code",
   "execution_count": 5,
   "id": "678e612e",
   "metadata": {},
   "outputs": [
    {
     "data": {
      "text/plain": [
       "(40455, 11)"
      ]
     },
     "execution_count": 5,
     "metadata": {},
     "output_type": "execute_result"
    }
   ],
   "source": [
    "d_train.shape"
   ]
  },
  {
   "cell_type": "code",
   "execution_count": 6,
   "id": "1922c58e",
   "metadata": {},
   "outputs": [
    {
     "data": {
      "text/plain": [
       "id         0\n",
       "carat      0\n",
       "cut        0\n",
       "color      0\n",
       "clarity    0\n",
       "depth      0\n",
       "table      0\n",
       "x          0\n",
       "y          0\n",
       "z          0\n",
       "price      0\n",
       "dtype: int64"
      ]
     },
     "execution_count": 6,
     "metadata": {},
     "output_type": "execute_result"
    }
   ],
   "source": [
    "d_train.isnull().sum()"
   ]
  },
  {
   "cell_type": "code",
   "execution_count": 7,
   "id": "68f3a5e3",
   "metadata": {},
   "outputs": [],
   "source": [
    "# not nulls yuhuuu"
   ]
  },
  {
   "cell_type": "code",
   "execution_count": 8,
   "id": "89b1fcc0",
   "metadata": {},
   "outputs": [
    {
     "data": {
      "text/plain": [
       "id           int64\n",
       "carat      float64\n",
       "cut         object\n",
       "color       object\n",
       "clarity     object\n",
       "depth      float64\n",
       "table      float64\n",
       "x          float64\n",
       "y          float64\n",
       "z          float64\n",
       "price      float64\n",
       "dtype: object"
      ]
     },
     "execution_count": 8,
     "metadata": {},
     "output_type": "execute_result"
    }
   ],
   "source": [
    "d_train.dtypes"
   ]
  },
  {
   "cell_type": "markdown",
   "id": "3c95289e",
   "metadata": {},
   "source": [
    "## Lets see what can we do with the categorical columns"
   ]
  },
  {
   "cell_type": "markdown",
   "id": "28fcf14f",
   "metadata": {},
   "source": [
    "I am going to assume that all the 3 categorical variables are important in a certain order.\n",
    "\n",
    "This is obvious in the cut (Ideal is the best, therefore a 5 out of 5). With the color, at first I am going to assume the same, the are colors which have more market value than others. The clarity works the same as color."
   ]
  },
  {
   "cell_type": "markdown",
   "id": "e76f7b49",
   "metadata": {},
   "source": [
    "####  - Cut"
   ]
  },
  {
   "cell_type": "code",
   "execution_count": 9,
   "id": "3018a9d0",
   "metadata": {},
   "outputs": [
    {
     "data": {
      "text/plain": [
       "Ideal        16230\n",
       "Premium      10338\n",
       "Very Good     9003\n",
       "Good          3682\n",
       "Fair          1202\n",
       "Name: cut, dtype: int64"
      ]
     },
     "execution_count": 9,
     "metadata": {},
     "output_type": "execute_result"
    }
   ],
   "source": [
    "d_train.cut.value_counts()"
   ]
  },
  {
   "cell_type": "code",
   "execution_count": 10,
   "id": "3b973b97",
   "metadata": {},
   "outputs": [],
   "source": [
    "category = {\n",
    "    'Ideal' : 5,\n",
    "    'Premium' : 4,\n",
    "    'Very Good' : 3,\n",
    "    'Good' : 2,\n",
    "    'Fair' : 1   \n",
    "}"
   ]
  },
  {
   "cell_type": "code",
   "execution_count": 11,
   "id": "64bd4e7d",
   "metadata": {},
   "outputs": [],
   "source": [
    "d_train.cut = d_train.cut.map(category)"
   ]
  },
  {
   "cell_type": "code",
   "execution_count": 12,
   "id": "55c11b63",
   "metadata": {},
   "outputs": [
    {
     "data": {
      "text/html": [
       "<div>\n",
       "<style scoped>\n",
       "    .dataframe tbody tr th:only-of-type {\n",
       "        vertical-align: middle;\n",
       "    }\n",
       "\n",
       "    .dataframe tbody tr th {\n",
       "        vertical-align: top;\n",
       "    }\n",
       "\n",
       "    .dataframe thead th {\n",
       "        text-align: right;\n",
       "    }\n",
       "</style>\n",
       "<table border=\"1\" class=\"dataframe\">\n",
       "  <thead>\n",
       "    <tr style=\"text-align: right;\">\n",
       "      <th></th>\n",
       "      <th>id</th>\n",
       "      <th>carat</th>\n",
       "      <th>cut</th>\n",
       "      <th>color</th>\n",
       "      <th>clarity</th>\n",
       "      <th>depth</th>\n",
       "      <th>table</th>\n",
       "      <th>x</th>\n",
       "      <th>y</th>\n",
       "      <th>z</th>\n",
       "      <th>price</th>\n",
       "    </tr>\n",
       "  </thead>\n",
       "  <tbody>\n",
       "    <tr>\n",
       "      <th>20034</th>\n",
       "      <td>20034</td>\n",
       "      <td>0.33</td>\n",
       "      <td>3</td>\n",
       "      <td>G</td>\n",
       "      <td>VS2</td>\n",
       "      <td>59.4</td>\n",
       "      <td>61.0</td>\n",
       "      <td>4.49</td>\n",
       "      <td>4.53</td>\n",
       "      <td>2.68</td>\n",
       "      <td>6.361</td>\n",
       "    </tr>\n",
       "  </tbody>\n",
       "</table>\n",
       "</div>"
      ],
      "text/plain": [
       "          id  carat  cut color clarity  depth  table     x     y     z  price\n",
       "20034  20034   0.33    3     G     VS2   59.4   61.0  4.49  4.53  2.68  6.361"
      ]
     },
     "execution_count": 12,
     "metadata": {},
     "output_type": "execute_result"
    }
   ],
   "source": [
    "d_train.sample()"
   ]
  },
  {
   "cell_type": "code",
   "execution_count": 13,
   "id": "4585a7e3",
   "metadata": {},
   "outputs": [
    {
     "data": {
      "image/png": "[encoded data removed]",
      "text/plain": [
       "<Figure size 432x288 with 1 Axes>"
      ]
     },
     "metadata": {
      "needs_background": "light"
     },
     "output_type": "display_data"
    }
   ],
   "source": [
    "sns.countplot(data=d_train, x=d_train.cut);"
   ]
  },
  {
   "cell_type": "markdown",
   "id": "d2160268",
   "metadata": {},
   "source": [
    "#### - Color"
   ]
  },
  {
   "cell_type": "code",
   "execution_count": 14,
   "id": "3b59158e",
   "metadata": {},
   "outputs": [
    {
     "data": {
      "text/plain": [
       "G    8410\n",
       "E    7368\n",
       "F    7182\n",
       "H    6203\n",
       "D    5100\n",
       "I    4070\n",
       "J    2122\n",
       "Name: color, dtype: int64"
      ]
     },
     "execution_count": 14,
     "metadata": {},
     "output_type": "execute_result"
    }
   ],
   "source": [
    "d_train.color.value_counts()"
   ]
  },
  {
   "cell_type": "code",
   "execution_count": 15,
   "id": "8f2bf96e",
   "metadata": {},
   "outputs": [],
   "source": [
    "color_ = {\n",
    "    'G' : 1,\n",
    "    'E': 2,\n",
    "    'F': 3,\n",
    "    'H': 4,\n",
    "    'D': 5,\n",
    "    'I': 6,\n",
    "    'J': 7\n",
    "}"
   ]
  },
  {
   "cell_type": "code",
   "execution_count": 16,
   "id": "c513af6b",
   "metadata": {},
   "outputs": [],
   "source": [
    "d_train.color = d_train.color.map(color_)"
   ]
  },
  {
   "cell_type": "code",
   "execution_count": 17,
   "id": "1ec6c94b",
   "metadata": {},
   "outputs": [
    {
     "data": {
      "text/html": [
       "<div>\n",
       "<style scoped>\n",
       "    .dataframe tbody tr th:only-of-type {\n",
       "        vertical-align: middle;\n",
       "    }\n",
       "\n",
       "    .dataframe tbody tr th {\n",
       "        vertical-align: top;\n",
       "    }\n",
       "\n",
       "    .dataframe thead th {\n",
       "        text-align: right;\n",
       "    }\n",
       "</style>\n",
       "<table border=\"1\" class=\"dataframe\">\n",
       "  <thead>\n",
       "    <tr style=\"text-align: right;\">\n",
       "      <th></th>\n",
       "      <th>id</th>\n",
       "      <th>carat</th>\n",
       "      <th>cut</th>\n",
       "      <th>color</th>\n",
       "      <th>clarity</th>\n",
       "      <th>depth</th>\n",
       "      <th>table</th>\n",
       "      <th>x</th>\n",
       "      <th>y</th>\n",
       "      <th>z</th>\n",
       "      <th>price</th>\n",
       "    </tr>\n",
       "  </thead>\n",
       "  <tbody>\n",
       "    <tr>\n",
       "      <th>5247</th>\n",
       "      <td>5247</td>\n",
       "      <td>0.54</td>\n",
       "      <td>5</td>\n",
       "      <td>2</td>\n",
       "      <td>VS1</td>\n",
       "      <td>62.6</td>\n",
       "      <td>55.0</td>\n",
       "      <td>5.2</td>\n",
       "      <td>5.22</td>\n",
       "      <td>3.26</td>\n",
       "      <td>7.457</td>\n",
       "    </tr>\n",
       "  </tbody>\n",
       "</table>\n",
       "</div>"
      ],
      "text/plain": [
       "        id  carat  cut  color clarity  depth  table    x     y     z  price\n",
       "5247  5247   0.54    5      2     VS1   62.6   55.0  5.2  5.22  3.26  7.457"
      ]
     },
     "execution_count": 17,
     "metadata": {},
     "output_type": "execute_result"
    }
   ],
   "source": [
    "d_train.sample()"
   ]
  },
  {
   "cell_type": "code",
   "execution_count": 18,
   "id": "0c3dfc9a",
   "metadata": {},
   "outputs": [
    {
     "data": {
      "image/png": "[encoded data removed]",
      "text/plain": [
       "<Figure size 432x288 with 1 Axes>"
      ]
     },
     "metadata": {
      "needs_background": "light"
     },
     "output_type": "display_data"
    }
   ],
   "source": [
    "sns.countplot(data=d_train, x=d_train.color);"
   ]
  },
  {
   "cell_type": "markdown",
   "id": "46f3c50b",
   "metadata": {},
   "source": [
    "#### - Clarity"
   ]
  },
  {
   "cell_type": "code",
   "execution_count": 19,
   "id": "aaf06a2a",
   "metadata": {},
   "outputs": [
    {
     "data": {
      "text/plain": [
       "SI1     9779\n",
       "VS2     9259\n",
       "SI2     6921\n",
       "VS1     6079\n",
       "VVS2    3745\n",
       "VVS1    2807\n",
       "IF      1312\n",
       "I1       553\n",
       "Name: clarity, dtype: int64"
      ]
     },
     "execution_count": 19,
     "metadata": {},
     "output_type": "execute_result"
    }
   ],
   "source": [
    "d_train.clarity.value_counts()"
   ]
  },
  {
   "cell_type": "code",
   "execution_count": 20,
   "id": "ea17bfa7",
   "metadata": {},
   "outputs": [],
   "source": [
    "calrity_ = {\n",
    "    'SI2': 1, \n",
    "    'VVS2': 2, \n",
    "    'VS2': 3, \n",
    "    'VS1': 4, \n",
    "    'SI1': 5, \n",
    "    'VVS1': 6, \n",
    "    'IF': 7, \n",
    "    'I1': 8\n",
    "}"
   ]
  },
  {
   "cell_type": "code",
   "execution_count": 21,
   "id": "19579567",
   "metadata": {},
   "outputs": [],
   "source": [
    "d_train.clarity = d_train.clarity.map(calrity_)"
   ]
  },
  {
   "cell_type": "code",
   "execution_count": 22,
   "id": "c4b9c5e5",
   "metadata": {},
   "outputs": [
    {
     "data": {
      "text/html": [
       "<div>\n",
       "<style scoped>\n",
       "    .dataframe tbody tr th:only-of-type {\n",
       "        vertical-align: middle;\n",
       "    }\n",
       "\n",
       "    .dataframe tbody tr th {\n",
       "        vertical-align: top;\n",
       "    }\n",
       "\n",
       "    .dataframe thead th {\n",
       "        text-align: right;\n",
       "    }\n",
       "</style>\n",
       "<table border=\"1\" class=\"dataframe\">\n",
       "  <thead>\n",
       "    <tr style=\"text-align: right;\">\n",
       "      <th></th>\n",
       "      <th>id</th>\n",
       "      <th>carat</th>\n",
       "      <th>cut</th>\n",
       "      <th>color</th>\n",
       "      <th>clarity</th>\n",
       "      <th>depth</th>\n",
       "      <th>table</th>\n",
       "      <th>x</th>\n",
       "      <th>y</th>\n",
       "      <th>z</th>\n",
       "      <th>price</th>\n",
       "    </tr>\n",
       "  </thead>\n",
       "  <tbody>\n",
       "    <tr>\n",
       "      <th>4596</th>\n",
       "      <td>4596</td>\n",
       "      <td>0.38</td>\n",
       "      <td>5</td>\n",
       "      <td>6</td>\n",
       "      <td>4</td>\n",
       "      <td>62.3</td>\n",
       "      <td>53.4</td>\n",
       "      <td>4.65</td>\n",
       "      <td>4.69</td>\n",
       "      <td>2.91</td>\n",
       "      <td>6.555</td>\n",
       "    </tr>\n",
       "  </tbody>\n",
       "</table>\n",
       "</div>"
      ],
      "text/plain": [
       "        id  carat  cut  color  clarity  depth  table     x     y     z  price\n",
       "4596  4596   0.38    5      6        4   62.3   53.4  4.65  4.69  2.91  6.555"
      ]
     },
     "execution_count": 22,
     "metadata": {},
     "output_type": "execute_result"
    }
   ],
   "source": [
    "d_train.sample()"
   ]
  },
  {
   "cell_type": "code",
   "execution_count": 23,
   "id": "d80219f4",
   "metadata": {},
   "outputs": [
    {
     "data": {
      "text/plain": [
       "id           int64\n",
       "carat      float64\n",
       "cut          int64\n",
       "color        int64\n",
       "clarity      int64\n",
       "depth      float64\n",
       "table      float64\n",
       "x          float64\n",
       "y          float64\n",
       "z          float64\n",
       "price      float64\n",
       "dtype: object"
      ]
     },
     "execution_count": 23,
     "metadata": {},
     "output_type": "execute_result"
    }
   ],
   "source": [
    "d_train.dtypes"
   ]
  },
  {
   "cell_type": "code",
   "execution_count": 24,
   "id": "802f47b1",
   "metadata": {},
   "outputs": [],
   "source": [
    "# DONE"
   ]
  },
  {
   "cell_type": "markdown",
   "id": "342485e7",
   "metadata": {},
   "source": [
    "## Now let's see which are the 4c´s of a Diamond"
   ]
  },
  {
   "cell_type": "markdown",
   "id": "42468065",
   "metadata": {},
   "source": [
    "This are, in  order of most valuable to least:\n",
    " \n",
    "- Carat\n",
    "\n",
    "- Color\n",
    "\n",
    "- Clarity\n",
    "\n",
    "- Cut"
   ]
  },
  {
   "cell_type": "markdown",
   "id": "7ef904b1",
   "metadata": {},
   "source": [
    "This are the most important features of a diamond, but we can not ignore other features as table, depth (z)..."
   ]
  },
  {
   "cell_type": "code",
   "execution_count": 25,
   "id": "5b19f529",
   "metadata": {},
   "outputs": [],
   "source": [
    "correlation = d_train.corr()"
   ]
  },
  {
   "cell_type": "code",
   "execution_count": 26,
   "id": "66589799",
   "metadata": {},
   "outputs": [
    {
     "data": {
      "text/html": [
       "<div>\n",
       "<style scoped>\n",
       "    .dataframe tbody tr th:only-of-type {\n",
       "        vertical-align: middle;\n",
       "    }\n",
       "\n",
       "    .dataframe tbody tr th {\n",
       "        vertical-align: top;\n",
       "    }\n",
       "\n",
       "    .dataframe thead th {\n",
       "        text-align: right;\n",
       "    }\n",
       "</style>\n",
       "<table border=\"1\" class=\"dataframe\">\n",
       "  <thead>\n",
       "    <tr style=\"text-align: right;\">\n",
       "      <th></th>\n",
       "      <th>id</th>\n",
       "      <th>carat</th>\n",
       "      <th>cut</th>\n",
       "      <th>color</th>\n",
       "      <th>clarity</th>\n",
       "      <th>depth</th>\n",
       "      <th>table</th>\n",
       "      <th>x</th>\n",
       "      <th>y</th>\n",
       "      <th>z</th>\n",
       "      <th>price</th>\n",
       "    </tr>\n",
       "  </thead>\n",
       "  <tbody>\n",
       "    <tr>\n",
       "      <th>id</th>\n",
       "      <td>1.000000</td>\n",
       "      <td>-0.003045</td>\n",
       "      <td>-0.000372</td>\n",
       "      <td>0.003901</td>\n",
       "      <td>0.001354</td>\n",
       "      <td>-0.000405</td>\n",
       "      <td>0.000783</td>\n",
       "      <td>-0.002447</td>\n",
       "      <td>-0.001936</td>\n",
       "      <td>-0.001273</td>\n",
       "      <td>-0.003194</td>\n",
       "    </tr>\n",
       "    <tr>\n",
       "      <th>carat</th>\n",
       "      <td>-0.003045</td>\n",
       "      <td>1.000000</td>\n",
       "      <td>-0.131069</td>\n",
       "      <td>0.190115</td>\n",
       "      <td>-0.155426</td>\n",
       "      <td>0.023585</td>\n",
       "      <td>0.185478</td>\n",
       "      <td>0.974648</td>\n",
       "      <td>0.944419</td>\n",
       "      <td>0.947469</td>\n",
       "      <td>0.920064</td>\n",
       "    </tr>\n",
       "    <tr>\n",
       "      <th>cut</th>\n",
       "      <td>-0.000372</td>\n",
       "      <td>-0.131069</td>\n",
       "      <td>1.000000</td>\n",
       "      <td>-0.035514</td>\n",
       "      <td>0.035271</td>\n",
       "      <td>-0.215352</td>\n",
       "      <td>-0.431195</td>\n",
       "      <td>-0.122895</td>\n",
       "      <td>-0.117832</td>\n",
       "      <td>-0.145396</td>\n",
       "      <td>-0.084878</td>\n",
       "    </tr>\n",
       "    <tr>\n",
       "      <th>color</th>\n",
       "      <td>0.003901</td>\n",
       "      <td>0.190115</td>\n",
       "      <td>-0.035514</td>\n",
       "      <td>1.000000</td>\n",
       "      <td>-0.011532</td>\n",
       "      <td>0.025624</td>\n",
       "      <td>0.041443</td>\n",
       "      <td>0.172155</td>\n",
       "      <td>0.166396</td>\n",
       "      <td>0.169746</td>\n",
       "      <td>0.086188</td>\n",
       "    </tr>\n",
       "    <tr>\n",
       "      <th>clarity</th>\n",
       "      <td>0.001354</td>\n",
       "      <td>-0.155426</td>\n",
       "      <td>0.035271</td>\n",
       "      <td>-0.011532</td>\n",
       "      <td>1.000000</td>\n",
       "      <td>0.022249</td>\n",
       "      <td>-0.061169</td>\n",
       "      <td>-0.163722</td>\n",
       "      <td>-0.159106</td>\n",
       "      <td>-0.155915</td>\n",
       "      <td>-0.122930</td>\n",
       "    </tr>\n",
       "    <tr>\n",
       "      <th>depth</th>\n",
       "      <td>-0.000405</td>\n",
       "      <td>0.023585</td>\n",
       "      <td>-0.215352</td>\n",
       "      <td>0.025624</td>\n",
       "      <td>0.022249</td>\n",
       "      <td>1.000000</td>\n",
       "      <td>-0.299203</td>\n",
       "      <td>-0.029867</td>\n",
       "      <td>-0.033960</td>\n",
       "      <td>0.089474</td>\n",
       "      <td>-0.003292</td>\n",
       "    </tr>\n",
       "    <tr>\n",
       "      <th>table</th>\n",
       "      <td>0.000783</td>\n",
       "      <td>0.185478</td>\n",
       "      <td>-0.431195</td>\n",
       "      <td>0.041443</td>\n",
       "      <td>-0.061169</td>\n",
       "      <td>-0.299203</td>\n",
       "      <td>1.000000</td>\n",
       "      <td>0.200374</td>\n",
       "      <td>0.186788</td>\n",
       "      <td>0.153726</td>\n",
       "      <td>0.162804</td>\n",
       "    </tr>\n",
       "    <tr>\n",
       "      <th>x</th>\n",
       "      <td>-0.002447</td>\n",
       "      <td>0.974648</td>\n",
       "      <td>-0.122895</td>\n",
       "      <td>0.172155</td>\n",
       "      <td>-0.163722</td>\n",
       "      <td>-0.029867</td>\n",
       "      <td>0.200374</td>\n",
       "      <td>1.000000</td>\n",
       "      <td>0.967315</td>\n",
       "      <td>0.965496</td>\n",
       "      <td>0.957668</td>\n",
       "    </tr>\n",
       "    <tr>\n",
       "      <th>y</th>\n",
       "      <td>-0.001936</td>\n",
       "      <td>0.944419</td>\n",
       "      <td>-0.117832</td>\n",
       "      <td>0.166396</td>\n",
       "      <td>-0.159106</td>\n",
       "      <td>-0.033960</td>\n",
       "      <td>0.186788</td>\n",
       "      <td>0.967315</td>\n",
       "      <td>1.000000</td>\n",
       "      <td>0.941176</td>\n",
       "      <td>0.928909</td>\n",
       "    </tr>\n",
       "    <tr>\n",
       "      <th>z</th>\n",
       "      <td>-0.001273</td>\n",
       "      <td>0.947469</td>\n",
       "      <td>-0.145396</td>\n",
       "      <td>0.169746</td>\n",
       "      <td>-0.155915</td>\n",
       "      <td>0.089474</td>\n",
       "      <td>0.153726</td>\n",
       "      <td>0.965496</td>\n",
       "      <td>0.941176</td>\n",
       "      <td>1.000000</td>\n",
       "      <td>0.930014</td>\n",
       "    </tr>\n",
       "    <tr>\n",
       "      <th>price</th>\n",
       "      <td>-0.003194</td>\n",
       "      <td>0.920064</td>\n",
       "      <td>-0.084878</td>\n",
       "      <td>0.086188</td>\n",
       "      <td>-0.122930</td>\n",
       "      <td>-0.003292</td>\n",
       "      <td>0.162804</td>\n",
       "      <td>0.957668</td>\n",
       "      <td>0.928909</td>\n",
       "      <td>0.930014</td>\n",
       "      <td>1.000000</td>\n",
       "    </tr>\n",
       "  </tbody>\n",
       "</table>\n",
       "</div>"
      ],
      "text/plain": [
       "               id     carat       cut     color   clarity     depth     table  \\\n",
       "id       1.000000 -0.003045 -0.000372  0.003901  0.001354 -0.000405  0.000783   \n",
       "carat   -0.003045  1.000000 -0.131069  0.190115 -0.155426  0.023585  0.185478   \n",
       "cut     -0.000372 -0.131069  1.000000 -0.035514  0.035271 -0.215352 -0.431195   \n",
       "color    0.003901  0.190115 -0.035514  1.000000 -0.011532  0.025624  0.041443   \n",
       "clarity  0.001354 -0.155426  0.035271 -0.011532  1.000000  0.022249 -0.061169   \n",
       "depth   -0.000405  0.023585 -0.215352  0.025624  0.022249  1.000000 -0.299203   \n",
       "table    0.000783  0.185478 -0.431195  0.041443 -0.061169 -0.299203  1.000000   \n",
       "x       -0.002447  0.974648 -0.122895  0.172155 -0.163722 -0.029867  0.200374   \n",
       "y       -0.001936  0.944419 -0.117832  0.166396 -0.159106 -0.033960  0.186788   \n",
       "z       -0.001273  0.947469 -0.145396  0.169746 -0.155915  0.089474  0.153726   \n",
       "price   -0.003194  0.920064 -0.084878  0.086188 -0.122930 -0.003292  0.162804   \n",
       "\n",
       "                x         y         z     price  \n",
       "id      -0.002447 -0.001936 -0.001273 -0.003194  \n",
       "carat    0.974648  0.944419  0.947469  0.920064  \n",
       "cut     -0.122895 -0.117832 -0.145396 -0.084878  \n",
       "color    0.172155  0.166396  0.169746  0.086188  \n",
       "clarity -0.163722 -0.159106 -0.155915 -0.122930  \n",
       "depth   -0.029867 -0.033960  0.089474 -0.003292  \n",
       "table    0.200374  0.186788  0.153726  0.162804  \n",
       "x        1.000000  0.967315  0.965496  0.957668  \n",
       "y        0.967315  1.000000  0.941176  0.928909  \n",
       "z        0.965496  0.941176  1.000000  0.930014  \n",
       "price    0.957668  0.928909  0.930014  1.000000  "
      ]
     },
     "execution_count": 26,
     "metadata": {},
     "output_type": "execute_result"
    }
   ],
   "source": [
    "correlation"
   ]
  },
  {
   "cell_type": "code",
   "execution_count": 27,
   "id": "0cec57bb",
   "metadata": {},
   "outputs": [
    {
     "data": {
      "image/png": "[encoded data removed]",
      "text/plain": [
       "<Figure size 432x288 with 2 Axes>"
      ]
     },
     "metadata": {
      "needs_background": "light"
     },
     "output_type": "display_data"
    }
   ],
   "source": [
    "sns.heatmap(correlation);"
   ]
  },
  {
   "cell_type": "markdown",
   "id": "c7ce99cb",
   "metadata": {},
   "source": [
    "## Machine Learning time!"
   ]
  },
  {
   "cell_type": "code",
   "execution_count": 28,
   "id": "635caa20",
   "metadata": {},
   "outputs": [],
   "source": [
    "# lets start with a decision tree"
   ]
  },
  {
   "cell_type": "code",
   "execution_count": 29,
   "id": "2469284a",
   "metadata": {},
   "outputs": [],
   "source": [
    "from sklearn.model_selection import train_test_split"
   ]
  },
  {
   "cell_type": "code",
   "execution_count": 30,
   "id": "80949273",
   "metadata": {},
   "outputs": [],
   "source": [
    "X = d_train.drop(\"price\", axis=1)\n",
    "y = d_train.price"
   ]
  },
  {
   "cell_type": "code",
   "execution_count": 31,
   "id": "70c8bbdc",
   "metadata": {},
   "outputs": [],
   "source": [
    "X_train, X_test, y_train, y_test = train_test_split(X, y, test_size=0.2, random_state=666)"
   ]
  },
  {
   "cell_type": "code",
   "execution_count": 32,
   "id": "3b83b9b9",
   "metadata": {},
   "outputs": [
    {
     "data": {
      "text/plain": [
       "(32364, 10)"
      ]
     },
     "execution_count": 32,
     "metadata": {},
     "output_type": "execute_result"
    }
   ],
   "source": [
    "X_train.shape"
   ]
  },
  {
   "cell_type": "code",
   "execution_count": 33,
   "id": "40dd53fb",
   "metadata": {},
   "outputs": [
    {
     "data": {
      "text/plain": [
       "(8091, 10)"
      ]
     },
     "execution_count": 33,
     "metadata": {},
     "output_type": "execute_result"
    }
   ],
   "source": [
    "X_test.shape"
   ]
  },
  {
   "cell_type": "code",
   "execution_count": 35,
   "id": "cfc6e5e5",
   "metadata": {},
   "outputs": [
    {
     "data": {
      "text/plain": [
       "(32364,)"
      ]
     },
     "execution_count": 35,
     "metadata": {},
     "output_type": "execute_result"
    }
   ],
   "source": [
    "y_train.shape"
   ]
  },
  {
   "cell_type": "code",
   "execution_count": 36,
   "id": "c32ff065",
   "metadata": {},
   "outputs": [
    {
     "data": {
      "text/plain": [
       "(8091,)"
      ]
     },
     "execution_count": 36,
     "metadata": {},
     "output_type": "execute_result"
    }
   ],
   "source": [
    "y_test.shape"
   ]
  },
  {
   "cell_type": "code",
   "execution_count": 37,
   "id": "8bb90141",
   "metadata": {},
   "outputs": [],
   "source": [
    "from sklearn.tree import DecisionTreeRegressor"
   ]
  },
  {
   "cell_type": "code",
   "execution_count": 95,
   "id": "d1422fcf",
   "metadata": {},
   "outputs": [],
   "source": [
    "model_tree_13 = DecisionTreeRegressor(max_depth=13)"
   ]
  },
  {
   "cell_type": "code",
   "execution_count": 96,
   "id": "3e6b25d1",
   "metadata": {},
   "outputs": [
    {
     "data": {
      "text/plain": [
       "DecisionTreeRegressor(max_depth=13)"
      ]
     },
     "execution_count": 96,
     "metadata": {},
     "output_type": "execute_result"
    }
   ],
   "source": [
    "model_tree_13.fit(X_train, y_train)"
   ]
  },
  {
   "cell_type": "code",
   "execution_count": 97,
   "id": "4d0200d3",
   "metadata": {},
   "outputs": [],
   "source": [
    "y_predict = model_tree_13.predict(X_test).round(3)"
   ]
  },
  {
   "cell_type": "code",
   "execution_count": 98,
   "id": "91b1d1e2",
   "metadata": {},
   "outputs": [
    {
     "data": {
      "text/plain": [
       "array([6.646, 8.202, 6.56 , ..., 7.663, 9.21 , 7.781])"
      ]
     },
     "execution_count": 98,
     "metadata": {},
     "output_type": "execute_result"
    }
   ],
   "source": [
    "y_predict"
   ]
  },
  {
   "cell_type": "code",
   "execution_count": 99,
   "id": "3829ea01",
   "metadata": {},
   "outputs": [],
   "source": [
    "from sklearn import metrics"
   ]
  },
  {
   "cell_type": "code",
   "execution_count": 100,
   "id": "181e6908",
   "metadata": {},
   "outputs": [],
   "source": [
    "from sklearn.metrics import mean_squared_error"
   ]
  },
  {
   "cell_type": "code",
   "execution_count": 101,
   "id": "ac965bb6",
   "metadata": {},
   "outputs": [],
   "source": [
    "RMSE = (mean_squared_error(y_test, y_predict)) ** 0.5"
   ]
  },
  {
   "cell_type": "code",
   "execution_count": 102,
   "id": "7f3fc9c9",
   "metadata": {},
   "outputs": [
    {
     "data": {
      "text/plain": [
       "0.1241955376746559"
      ]
     },
     "execution_count": 102,
     "metadata": {},
     "output_type": "execute_result"
    }
   ],
   "source": [
    "RMSE"
   ]
  },
  {
   "cell_type": "code",
   "execution_count": 103,
   "id": "85dd09a4",
   "metadata": {},
   "outputs": [],
   "source": [
    "# now lets do a random forest"
   ]
  },
  {
   "cell_type": "code",
   "execution_count": null,
   "id": "cb0630fc",
   "metadata": {},
   "outputs": [],
   "source": []
  }
 ],
 "metadata": {
  "kernelspec": {
   "display_name": "Python 3",
   "language": "python",
   "name": "python3"
  },
  "language_info": {
   "codemirror_mode": {
    "name": "ipython",
    "version": 3
   },
   "file_extension": ".py",
   "mimetype": "text/x-python",
   "name": "python",
   "nbconvert_exporter": "python",
   "pygments_lexer": "ipython3",
   "version": "3.8.8"
  }
 },
 "nbformat": 4,
 "nbformat_minor": 5
}
